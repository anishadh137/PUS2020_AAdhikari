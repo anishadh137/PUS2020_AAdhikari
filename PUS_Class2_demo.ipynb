{
  "nbformat": 4,
  "nbformat_minor": 0,
  "metadata": {
    "colab": {
      "name": "PUS_Class2_demo.ipynb",
      "provenance": [],
      "authorship_tag": "ABX9TyMrO0pxS7kfi9yHr2uy8J79",
      "include_colab_link": true
    },
    "kernelspec": {
      "name": "python3",
      "display_name": "Python 3"
    }
  },
  "cells": [
    {
      "cell_type": "markdown",
      "metadata": {
        "id": "view-in-github",
        "colab_type": "text"
      },
      "source": [
        "<a href=\"https://colab.research.google.com/github/anishadh137/PUS2020_AAdhikari/blob/master/PUS_Class2_demo.ipynb\" target=\"_parent\"><img src=\"https://colab.research.google.com/assets/colab-badge.svg\" alt=\"Open In Colab\"/></a>"
      ]
    },
    {
      "cell_type": "code",
      "metadata": {
        "id": "2hy0XMEXF3ZA",
        "colab_type": "code",
        "colab": {
          "base_uri": "https://localhost:8080/",
          "height": 34
        },
        "outputId": "d5e96438-9ea4-428b-ad25-49422344446f"
      },
      "source": [
        "from google.colab import drive\n",
        "import pandas as pd\n",
        "drive.mount(\"/content/drive\")\n",
        "\n",
        "\n"
      ],
      "execution_count": 7,
      "outputs": [
        {
          "output_type": "stream",
          "text": [
            "Drive already mounted at /content/drive; to attempt to forcibly remount, call drive.mount(\"/content/drive\", force_remount=True).\n"
          ],
          "name": "stdout"
        }
      ]
    },
    {
      "cell_type": "code",
      "metadata": {
        "id": "H0GaxwQBHXHq",
        "colab_type": "code",
        "colab": {
          "base_uri": "https://localhost:8080/",
          "height": 34
        },
        "outputId": "1b6b5936-500a-416d-841e-f5d5bb7d3c5c"
      },
      "source": [
        "cd drive/Shared\\ drives/PUS2020"
      ],
      "execution_count": 8,
      "outputs": [
        {
          "output_type": "stream",
          "text": [
            "/content/drive/Shared drives/PUS2020\n"
          ],
          "name": "stdout"
        }
      ]
    },
    {
      "cell_type": "code",
      "metadata": {
        "id": "AReF4uk7Hoi3",
        "colab_type": "code",
        "colab": {
          "base_uri": "https://localhost:8080/",
          "height": 102
        },
        "outputId": "d43c2d37-a9d5-422d-b482-513424046b33"
      },
      "source": [
        "ls\n"
      ],
      "execution_count": 9,
      "outputs": [
        {
          "output_type": "stream",
          "text": [
            " classlogo.ipynb                     MapPLUTO+2008\n",
            " \u001b[0m\u001b[01;34mdata\u001b[0m/                               nyc_mappluto_20v5_shp.zip\n",
            "'Example PUS2020 class quiz.gform'  'PUS2020 CoC and Github repo.gform'\n",
            " \u001b[01;34minclassquizzes\u001b[0m/                     testDiffSheets.ipynb\n",
            " manhattan.zip                       wilmingtonskyline.png\n"
          ],
          "name": "stdout"
        }
      ]
    },
    {
      "cell_type": "code",
      "metadata": {
        "id": "YzuHKDk5Hv1H",
        "colab_type": "code",
        "colab": {}
      },
      "source": [
        "df1 = pd.read_excel(\"data/Varnamesnlabels_m2ihip_R.xlsx\")"
      ],
      "execution_count": 13,
      "outputs": []
    },
    {
      "cell_type": "code",
      "metadata": {
        "id": "LFR4Pmz-IDZv",
        "colab_type": "code",
        "colab": {}
      },
      "source": [
        "df2 = pd.read_excel(\"data/Varnamesnlabels_m2ihip.xlsx\")"
      ],
      "execution_count": 14,
      "outputs": []
    },
    {
      "cell_type": "code",
      "metadata": {
        "id": "0rtQ86CHIIum",
        "colab_type": "code",
        "colab": {
          "base_uri": "https://localhost:8080/",
          "height": 204
        },
        "outputId": "5af7ed01-c9f3-4e1a-cc15-f6cc5858a066"
      },
      "source": [
        "df1.head()"
      ],
      "execution_count": 15,
      "outputs": [
        {
          "output_type": "execute_result",
          "data": {
            "text/html": [
              "<div>\n",
              "<style scoped>\n",
              "    .dataframe tbody tr th:only-of-type {\n",
              "        vertical-align: middle;\n",
              "    }\n",
              "\n",
              "    .dataframe tbody tr th {\n",
              "        vertical-align: top;\n",
              "    }\n",
              "\n",
              "    .dataframe thead th {\n",
              "        text-align: right;\n",
              "    }\n",
              "</style>\n",
              "<table border=\"1\" class=\"dataframe\">\n",
              "  <thead>\n",
              "    <tr style=\"text-align: right;\">\n",
              "      <th></th>\n",
              "      <th>varname</th>\n",
              "      <th>varlabel</th>\n",
              "    </tr>\n",
              "  </thead>\n",
              "  <tbody>\n",
              "    <tr>\n",
              "      <th>0</th>\n",
              "      <td>id</td>\n",
              "      <td>NaN</td>\n",
              "    </tr>\n",
              "    <tr>\n",
              "      <th>1</th>\n",
              "      <td>m2StartDate</td>\n",
              "      <td>Start Date</td>\n",
              "    </tr>\n",
              "    <tr>\n",
              "      <th>2</th>\n",
              "      <td>m2EndDate</td>\n",
              "      <td>End Date</td>\n",
              "    </tr>\n",
              "    <tr>\n",
              "      <th>3</th>\n",
              "      <td>m2RecordedDate</td>\n",
              "      <td>Recorded Date</td>\n",
              "    </tr>\n",
              "    <tr>\n",
              "      <th>4</th>\n",
              "      <td>m2hid</td>\n",
              "      <td>Enter House ID Number here (1-8):</td>\n",
              "    </tr>\n",
              "  </tbody>\n",
              "</table>\n",
              "</div>"
            ],
            "text/plain": [
              "          varname                           varlabel\n",
              "0              id                                NaN\n",
              "1     m2StartDate                         Start Date\n",
              "2       m2EndDate                           End Date\n",
              "3  m2RecordedDate                      Recorded Date\n",
              "4           m2hid  Enter House ID Number here (1-8):"
            ]
          },
          "metadata": {
            "tags": []
          },
          "execution_count": 15
        }
      ]
    },
    {
      "cell_type": "code",
      "metadata": {
        "id": "jU1EkcUEILw3",
        "colab_type": "code",
        "colab": {
          "base_uri": "https://localhost:8080/",
          "height": 204
        },
        "outputId": "e98b89bf-079a-4c14-9b69-2754ef6da386"
      },
      "source": [
        "df2.head()"
      ],
      "execution_count": 16,
      "outputs": [
        {
          "output_type": "execute_result",
          "data": {
            "text/html": [
              "<div>\n",
              "<style scoped>\n",
              "    .dataframe tbody tr th:only-of-type {\n",
              "        vertical-align: middle;\n",
              "    }\n",
              "\n",
              "    .dataframe tbody tr th {\n",
              "        vertical-align: top;\n",
              "    }\n",
              "\n",
              "    .dataframe thead th {\n",
              "        text-align: right;\n",
              "    }\n",
              "</style>\n",
              "<table border=\"1\" class=\"dataframe\">\n",
              "  <thead>\n",
              "    <tr style=\"text-align: right;\">\n",
              "      <th></th>\n",
              "      <th>varname</th>\n",
              "      <th>varlabel</th>\n",
              "    </tr>\n",
              "  </thead>\n",
              "  <tbody>\n",
              "    <tr>\n",
              "      <th>0</th>\n",
              "      <td>id</td>\n",
              "      <td>NaN</td>\n",
              "    </tr>\n",
              "    <tr>\n",
              "      <th>1</th>\n",
              "      <td>m2hid</td>\n",
              "      <td>Enter House ID Number here (1-8):</td>\n",
              "    </tr>\n",
              "    <tr>\n",
              "      <th>2</th>\n",
              "      <td>m2ooh</td>\n",
              "      <td>NaN</td>\n",
              "    </tr>\n",
              "    <tr>\n",
              "      <th>3</th>\n",
              "      <td>m2age</td>\n",
              "      <td>How old are you? Please enter your current age...</td>\n",
              "    </tr>\n",
              "    <tr>\n",
              "      <th>4</th>\n",
              "      <td>m2agecat</td>\n",
              "      <td>Age, categorical variable</td>\n",
              "    </tr>\n",
              "  </tbody>\n",
              "</table>\n",
              "</div>"
            ],
            "text/plain": [
              "    varname                                           varlabel\n",
              "0        id                                                NaN\n",
              "1     m2hid                  Enter House ID Number here (1-8):\n",
              "2     m2ooh                                                NaN\n",
              "3     m2age  How old are you? Please enter your current age...\n",
              "4  m2agecat                          Age, categorical variable"
            ]
          },
          "metadata": {
            "tags": []
          },
          "execution_count": 16
        }
      ]
    },
    {
      "cell_type": "markdown",
      "metadata": {
        "id": "cM-d9jq-IORH",
        "colab_type": "text"
      },
      "source": [
        "df1.tail()"
      ]
    },
    {
      "cell_type": "code",
      "metadata": {
        "id": "gJQlUvQwIQvn",
        "colab_type": "code",
        "colab": {
          "base_uri": "https://localhost:8080/",
          "height": 204
        },
        "outputId": "9567cffd-ec5b-4190-cc70-972fabd62aff"
      },
      "source": [
        "df2.tail()"
      ],
      "execution_count": 18,
      "outputs": [
        {
          "output_type": "execute_result",
          "data": {
            "text/html": [
              "<div>\n",
              "<style scoped>\n",
              "    .dataframe tbody tr th:only-of-type {\n",
              "        vertical-align: middle;\n",
              "    }\n",
              "\n",
              "    .dataframe tbody tr th {\n",
              "        vertical-align: top;\n",
              "    }\n",
              "\n",
              "    .dataframe thead th {\n",
              "        text-align: right;\n",
              "    }\n",
              "</style>\n",
              "<table border=\"1\" class=\"dataframe\">\n",
              "  <thead>\n",
              "    <tr style=\"text-align: right;\">\n",
              "      <th></th>\n",
              "      <th>varname</th>\n",
              "      <th>varlabel</th>\n",
              "    </tr>\n",
              "  </thead>\n",
              "  <tbody>\n",
              "    <tr>\n",
              "      <th>214</th>\n",
              "      <td>m2severetotal</td>\n",
              "      <td>Addiction Severity Total Composite: Higher sco...</td>\n",
              "    </tr>\n",
              "    <tr>\n",
              "      <th>215</th>\n",
              "      <td>m2currod</td>\n",
              "      <td>In the past month, did you experience an overd...</td>\n",
              "    </tr>\n",
              "    <tr>\n",
              "      <th>216</th>\n",
              "      <td>m2currodfreq_str</td>\n",
              "      <td>Number of times you experienced an overdose</td>\n",
              "    </tr>\n",
              "    <tr>\n",
              "      <th>217</th>\n",
              "      <td>m2openend_str</td>\n",
              "      <td>Is there anything else you would like us to know?</td>\n",
              "    </tr>\n",
              "    <tr>\n",
              "      <th>218</th>\n",
              "      <td>m2employoth_flag</td>\n",
              "      <td>Participant specified other employment status.</td>\n",
              "    </tr>\n",
              "  </tbody>\n",
              "</table>\n",
              "</div>"
            ],
            "text/plain": [
              "              varname                                           varlabel\n",
              "214     m2severetotal  Addiction Severity Total Composite: Higher sco...\n",
              "215          m2currod  In the past month, did you experience an overd...\n",
              "216  m2currodfreq_str        Number of times you experienced an overdose\n",
              "217     m2openend_str  Is there anything else you would like us to know?\n",
              "218  m2employoth_flag     Participant specified other employment status."
            ]
          },
          "metadata": {
            "tags": []
          },
          "execution_count": 18
        }
      ]
    },
    {
      "cell_type": "code",
      "metadata": {
        "id": "V8ai9w5RIacH",
        "colab_type": "code",
        "colab": {
          "base_uri": "https://localhost:8080/",
          "height": 173
        },
        "outputId": "508596e0-41da-4c23-8aac-a5457fc9828c"
      },
      "source": [
        "df1.describe()"
      ],
      "execution_count": 19,
      "outputs": [
        {
          "output_type": "execute_result",
          "data": {
            "text/html": [
              "<div>\n",
              "<style scoped>\n",
              "    .dataframe tbody tr th:only-of-type {\n",
              "        vertical-align: middle;\n",
              "    }\n",
              "\n",
              "    .dataframe tbody tr th {\n",
              "        vertical-align: top;\n",
              "    }\n",
              "\n",
              "    .dataframe thead th {\n",
              "        text-align: right;\n",
              "    }\n",
              "</style>\n",
              "<table border=\"1\" class=\"dataframe\">\n",
              "  <thead>\n",
              "    <tr style=\"text-align: right;\">\n",
              "      <th></th>\n",
              "      <th>varname</th>\n",
              "      <th>varlabel</th>\n",
              "    </tr>\n",
              "  </thead>\n",
              "  <tbody>\n",
              "    <tr>\n",
              "      <th>count</th>\n",
              "      <td>222</td>\n",
              "      <td>220</td>\n",
              "    </tr>\n",
              "    <tr>\n",
              "      <th>unique</th>\n",
              "      <td>222</td>\n",
              "      <td>219</td>\n",
              "    </tr>\n",
              "    <tr>\n",
              "      <th>top</th>\n",
              "      <td>m2resilient3</td>\n",
              "      <td>Participant specified other employment status.</td>\n",
              "    </tr>\n",
              "    <tr>\n",
              "      <th>freq</th>\n",
              "      <td>1</td>\n",
              "      <td>2</td>\n",
              "    </tr>\n",
              "  </tbody>\n",
              "</table>\n",
              "</div>"
            ],
            "text/plain": [
              "             varname                                        varlabel\n",
              "count            222                                             220\n",
              "unique           222                                             219\n",
              "top     m2resilient3  Participant specified other employment status.\n",
              "freq               1                                               2"
            ]
          },
          "metadata": {
            "tags": []
          },
          "execution_count": 19
        }
      ]
    },
    {
      "cell_type": "code",
      "metadata": {
        "id": "wCoUWVMUIfr_",
        "colab_type": "code",
        "colab": {
          "base_uri": "https://localhost:8080/",
          "height": 173
        },
        "outputId": "1742de88-fed1-4e7e-a5ac-8a4b8e35b7fb"
      },
      "source": [
        "df2.describe()"
      ],
      "execution_count": 20,
      "outputs": [
        {
          "output_type": "execute_result",
          "data": {
            "text/html": [
              "<div>\n",
              "<style scoped>\n",
              "    .dataframe tbody tr th:only-of-type {\n",
              "        vertical-align: middle;\n",
              "    }\n",
              "\n",
              "    .dataframe tbody tr th {\n",
              "        vertical-align: top;\n",
              "    }\n",
              "\n",
              "    .dataframe thead th {\n",
              "        text-align: right;\n",
              "    }\n",
              "</style>\n",
              "<table border=\"1\" class=\"dataframe\">\n",
              "  <thead>\n",
              "    <tr style=\"text-align: right;\">\n",
              "      <th></th>\n",
              "      <th>varname</th>\n",
              "      <th>varlabel</th>\n",
              "    </tr>\n",
              "  </thead>\n",
              "  <tbody>\n",
              "    <tr>\n",
              "      <th>count</th>\n",
              "      <td>219</td>\n",
              "      <td>217</td>\n",
              "    </tr>\n",
              "    <tr>\n",
              "      <th>unique</th>\n",
              "      <td>219</td>\n",
              "      <td>216</td>\n",
              "    </tr>\n",
              "    <tr>\n",
              "      <th>top</th>\n",
              "      <td>m2resilient3</td>\n",
              "      <td>Participant specified other employment status.</td>\n",
              "    </tr>\n",
              "    <tr>\n",
              "      <th>freq</th>\n",
              "      <td>1</td>\n",
              "      <td>2</td>\n",
              "    </tr>\n",
              "  </tbody>\n",
              "</table>\n",
              "</div>"
            ],
            "text/plain": [
              "             varname                                        varlabel\n",
              "count            219                                             217\n",
              "unique           219                                             216\n",
              "top     m2resilient3  Participant specified other employment status.\n",
              "freq               1                                               2"
            ]
          },
          "metadata": {
            "tags": []
          },
          "execution_count": 20
        }
      ]
    },
    {
      "cell_type": "code",
      "metadata": {
        "id": "23iriTdjJGi0",
        "colab_type": "code",
        "colab": {}
      },
      "source": [
        "merged = df1.merge(df2, on=\"varname\", how='outer', indicator=True)"
      ],
      "execution_count": 23,
      "outputs": []
    },
    {
      "cell_type": "code",
      "metadata": {
        "id": "-agIdon3KHVz",
        "colab_type": "code",
        "colab": {
          "base_uri": "https://localhost:8080/",
          "height": 238
        },
        "outputId": "6c415ae3-97df-4507-8035-808fc84d7bd4"
      },
      "source": [
        "merged._merge"
      ],
      "execution_count": 24,
      "outputs": [
        {
          "output_type": "execute_result",
          "data": {
            "text/plain": [
              "0           both\n",
              "1      left_only\n",
              "2      left_only\n",
              "3      left_only\n",
              "4           both\n",
              "         ...    \n",
              "217         both\n",
              "218         both\n",
              "219         both\n",
              "220         both\n",
              "221         both\n",
              "Name: _merge, Length: 222, dtype: category\n",
              "Categories (3, object): [left_only, right_only, both]"
            ]
          },
          "metadata": {
            "tags": []
          },
          "execution_count": 24
        }
      ]
    },
    {
      "cell_type": "markdown",
      "metadata": {
        "id": "pubbf2A_Kvka",
        "colab_type": "text"
      },
      "source": [
        "This gives only the columns that are true to your *need*"
      ]
    },
    {
      "cell_type": "code",
      "metadata": {
        "id": "7B030DJzKdIz",
        "colab_type": "code",
        "colab": {
          "base_uri": "https://localhost:8080/",
          "height": 419
        },
        "outputId": "7ded6612-426b-49d3-abaf-520a295179f9"
      },
      "source": [
        "merged[merged[\"_merge\"] == \"both\"]"
      ],
      "execution_count": 26,
      "outputs": [
        {
          "output_type": "execute_result",
          "data": {
            "text/html": [
              "<div>\n",
              "<style scoped>\n",
              "    .dataframe tbody tr th:only-of-type {\n",
              "        vertical-align: middle;\n",
              "    }\n",
              "\n",
              "    .dataframe tbody tr th {\n",
              "        vertical-align: top;\n",
              "    }\n",
              "\n",
              "    .dataframe thead th {\n",
              "        text-align: right;\n",
              "    }\n",
              "</style>\n",
              "<table border=\"1\" class=\"dataframe\">\n",
              "  <thead>\n",
              "    <tr style=\"text-align: right;\">\n",
              "      <th></th>\n",
              "      <th>varname</th>\n",
              "      <th>varlabel_x</th>\n",
              "      <th>varlabel_y</th>\n",
              "      <th>_merge</th>\n",
              "    </tr>\n",
              "  </thead>\n",
              "  <tbody>\n",
              "    <tr>\n",
              "      <th>0</th>\n",
              "      <td>id</td>\n",
              "      <td>NaN</td>\n",
              "      <td>NaN</td>\n",
              "      <td>both</td>\n",
              "    </tr>\n",
              "    <tr>\n",
              "      <th>4</th>\n",
              "      <td>m2hid</td>\n",
              "      <td>Enter House ID Number here (1-8):</td>\n",
              "      <td>Enter House ID Number here (1-8):</td>\n",
              "      <td>both</td>\n",
              "    </tr>\n",
              "    <tr>\n",
              "      <th>5</th>\n",
              "      <td>m2ooh</td>\n",
              "      <td>NaN</td>\n",
              "      <td>NaN</td>\n",
              "      <td>both</td>\n",
              "    </tr>\n",
              "    <tr>\n",
              "      <th>6</th>\n",
              "      <td>m2age</td>\n",
              "      <td>How old are you? Please enter your current age...</td>\n",
              "      <td>How old are you? Please enter your current age...</td>\n",
              "      <td>both</td>\n",
              "    </tr>\n",
              "    <tr>\n",
              "      <th>7</th>\n",
              "      <td>m2agecat</td>\n",
              "      <td>Age, categorical variable</td>\n",
              "      <td>Age, categorical variable</td>\n",
              "      <td>both</td>\n",
              "    </tr>\n",
              "    <tr>\n",
              "      <th>...</th>\n",
              "      <td>...</td>\n",
              "      <td>...</td>\n",
              "      <td>...</td>\n",
              "      <td>...</td>\n",
              "    </tr>\n",
              "    <tr>\n",
              "      <th>217</th>\n",
              "      <td>m2severetotal</td>\n",
              "      <td>Addiction Severity Total Composite: Higher sco...</td>\n",
              "      <td>Addiction Severity Total Composite: Higher sco...</td>\n",
              "      <td>both</td>\n",
              "    </tr>\n",
              "    <tr>\n",
              "      <th>218</th>\n",
              "      <td>m2currod</td>\n",
              "      <td>In the past month, did you experience an overd...</td>\n",
              "      <td>In the past month, did you experience an overd...</td>\n",
              "      <td>both</td>\n",
              "    </tr>\n",
              "    <tr>\n",
              "      <th>219</th>\n",
              "      <td>m2currodfreq_str</td>\n",
              "      <td>Number of times you experienced an overdose</td>\n",
              "      <td>Number of times you experienced an overdose</td>\n",
              "      <td>both</td>\n",
              "    </tr>\n",
              "    <tr>\n",
              "      <th>220</th>\n",
              "      <td>m2openend_str</td>\n",
              "      <td>Is there anything else you would like us to know?</td>\n",
              "      <td>Is there anything else you would like us to know?</td>\n",
              "      <td>both</td>\n",
              "    </tr>\n",
              "    <tr>\n",
              "      <th>221</th>\n",
              "      <td>m2employoth_flag</td>\n",
              "      <td>Participant specified other employment status.</td>\n",
              "      <td>Participant specified other employment status.</td>\n",
              "      <td>both</td>\n",
              "    </tr>\n",
              "  </tbody>\n",
              "</table>\n",
              "<p>219 rows × 4 columns</p>\n",
              "</div>"
            ],
            "text/plain": [
              "              varname  ... _merge\n",
              "0                  id  ...   both\n",
              "4               m2hid  ...   both\n",
              "5               m2ooh  ...   both\n",
              "6               m2age  ...   both\n",
              "7            m2agecat  ...   both\n",
              "..                ...  ...    ...\n",
              "217     m2severetotal  ...   both\n",
              "218          m2currod  ...   both\n",
              "219  m2currodfreq_str  ...   both\n",
              "220     m2openend_str  ...   both\n",
              "221  m2employoth_flag  ...   both\n",
              "\n",
              "[219 rows x 4 columns]"
            ]
          },
          "metadata": {
            "tags": []
          },
          "execution_count": 26
        }
      ]
    },
    {
      "cell_type": "markdown",
      "metadata": {
        "id": "1-Pi-s3PLGry",
        "colab_type": "text"
      },
      "source": [
        "This gives clomun that is not true (~)\n"
      ]
    },
    {
      "cell_type": "code",
      "metadata": {
        "id": "igJWKaDfK1-0",
        "colab_type": "code",
        "colab": {
          "base_uri": "https://localhost:8080/",
          "height": 142
        },
        "outputId": "c7d5c63d-77bf-48ad-c80d-37f55136a301"
      },
      "source": [
        "merged[~(merged[\"_merge\"] == \"both\")]"
      ],
      "execution_count": null,
      "outputs": [
        {
          "output_type": "execute_result",
          "data": {
            "text/html": [
              "<div>\n",
              "<style scoped>\n",
              "    .dataframe tbody tr th:only-of-type {\n",
              "        vertical-align: middle;\n",
              "    }\n",
              "\n",
              "    .dataframe tbody tr th {\n",
              "        vertical-align: top;\n",
              "    }\n",
              "\n",
              "    .dataframe thead th {\n",
              "        text-align: right;\n",
              "    }\n",
              "</style>\n",
              "<table border=\"1\" class=\"dataframe\">\n",
              "  <thead>\n",
              "    <tr style=\"text-align: right;\">\n",
              "      <th></th>\n",
              "      <th>varname</th>\n",
              "      <th>varlabel_x</th>\n",
              "      <th>varlabel_y</th>\n",
              "      <th>_merge</th>\n",
              "    </tr>\n",
              "  </thead>\n",
              "  <tbody>\n",
              "    <tr>\n",
              "      <th>1</th>\n",
              "      <td>m2StartDate</td>\n",
              "      <td>Start Date</td>\n",
              "      <td>NaN</td>\n",
              "      <td>left_only</td>\n",
              "    </tr>\n",
              "    <tr>\n",
              "      <th>2</th>\n",
              "      <td>m2EndDate</td>\n",
              "      <td>End Date</td>\n",
              "      <td>NaN</td>\n",
              "      <td>left_only</td>\n",
              "    </tr>\n",
              "    <tr>\n",
              "      <th>3</th>\n",
              "      <td>m2RecordedDate</td>\n",
              "      <td>Recorded Date</td>\n",
              "      <td>NaN</td>\n",
              "      <td>left_only</td>\n",
              "    </tr>\n",
              "  </tbody>\n",
              "</table>\n",
              "</div>"
            ],
            "text/plain": [
              "          varname     varlabel_x varlabel_y     _merge\n",
              "1     m2StartDate     Start Date        NaN  left_only\n",
              "2       m2EndDate       End Date        NaN  left_only\n",
              "3  m2RecordedDate  Recorded Date        NaN  left_only"
            ]
          },
          "metadata": {
            "tags": []
          },
          "execution_count": 31
        }
      ]
    },
    {
      "cell_type": "markdown",
      "metadata": {
        "id": "mMZ0f3HsNi2P",
        "colab_type": "text"
      },
      "source": [
        "**Public Policy and Data Scicence**\n",
        "\n",
        "1.   Data for GOOD\n",
        "2.   Data Kind\n",
        "\n",
        "1.   The Kinder Institute for Urban Research\n",
        "\n",
        "1.   Metro21: Smart Cities Carnegie Mellon University \n",
        "2.   New Yoirk City Leader in Urban Informatics\n",
        "\n",
        "\n",
        "\n",
        "\n",
        "\n"
      ]
    },
    {
      "cell_type": "markdown",
      "metadata": {
        "id": "RGt7fez_N84O",
        "colab_type": "text"
      },
      "source": [
        ""
      ]
    }
  ]
}