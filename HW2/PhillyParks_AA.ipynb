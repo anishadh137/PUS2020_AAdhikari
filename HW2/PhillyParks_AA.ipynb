{
  "nbformat": 4,
  "nbformat_minor": 0,
  "metadata": {
    "colab": {
      "name": "HW2_PUS2020_AA.ipynb",
      "provenance": [],
      "authorship_tag": "ABX9TyOhJRevZ7PGPTC7TLXdjhZF",
      "include_colab_link": true
    },
    "kernelspec": {
      "name": "python3",
      "display_name": "Python 3"
    }
  },
  "cells": [
    {
      "cell_type": "markdown",
      "metadata": {
        "id": "view-in-github",
        "colab_type": "text"
      },
      "source": [
        "<a href=\"https://colab.research.google.com/github/anishadh137/PUS2020_AAdhikari/blob/master/HW2/PhillyParks_AA.ipynb\" target=\"_parent\"><img src=\"https://colab.research.google.com/assets/colab-badge.svg\" alt=\"Open In Colab\"/></a>"
      ]
    },
    {
      "cell_type": "code",
      "metadata": {
        "id": "JnPlwXtCICIm",
        "colab_type": "code",
        "colab": {
          "base_uri": "https://localhost:8080/",
          "height": 34
        },
        "outputId": "ff02211e-b953-41ca-af27-5a2c3553752e"
      },
      "source": [
        "from google.colab import drive\n",
        "import pandas as pd\n",
        "drive.mount(\"/content/drive\")\n"
      ],
      "execution_count": 1,
      "outputs": [
        {
          "output_type": "stream",
          "text": [
            "Mounted at /content/drive\n"
          ],
          "name": "stdout"
        }
      ]
    },
    {
      "cell_type": "code",
      "metadata": {
        "id": "-BFYRZ68IlaK",
        "colab_type": "code",
        "colab": {
          "base_uri": "https://localhost:8080/",
          "height": 34
        },
        "outputId": "5b57e2c1-7f83-439a-c72b-363ef8b99308"
      },
      "source": [
        "cd drive/Shared\\ drives/PUS2020\n"
      ],
      "execution_count": 2,
      "outputs": [
        {
          "output_type": "stream",
          "text": [
            "/content/drive/Shared drives/PUS2020\n"
          ],
          "name": "stdout"
        }
      ]
    },
    {
      "cell_type": "code",
      "metadata": {
        "id": "JKhCS7mkIr3Y",
        "colab_type": "code",
        "colab": {
          "base_uri": "https://localhost:8080/",
          "height": 289
        },
        "outputId": "73c7ffa9-1b22-44ab-b574-80285e15730f"
      },
      "source": [
        "ls"
      ],
      "execution_count": 3,
      "outputs": [
        {
          "output_type": "stream",
          "text": [
            " classlogo.ipynb\n",
            " \u001b[0m\u001b[01;34mdata\u001b[0m/\n",
            "'Example PUS2020 class quiz.gform'\n",
            " \u001b[01;34mFBBianco_data\u001b[0m/\n",
            " \u001b[01;34mFBianco_data\u001b[0m/\n",
            "'fxpq-c8ku?method=export&format=Shapefile'\n",
            " \u001b[01;34minclassquizzes\u001b[0m/\n",
            " \u001b[01;34m__MACOSX\u001b[0m/\n",
            " manhattan.zip\n",
            " MapPLUTO+2008\n",
            " nyc_mappluto_20v5_shp.zip\n",
            "'PUS2020 CoC and Github repo.gform'\n",
            " testDiffSheets.ipynb\n",
            "'tqmj-j8zm?method=export&format=Shapefile'\n",
            "'tqmj-j8zm?method=export&format=Shapefile.1'\n",
            " wilmingtonskyline.png\n"
          ],
          "name": "stdout"
        }
      ]
    },
    {
      "cell_type": "code",
      "metadata": {
        "id": "76roWlB2Iz14",
        "colab_type": "code",
        "colab": {
          "base_uri": "https://localhost:8080/",
          "height": 289
        },
        "outputId": "ec36a642-6e98-4fc6-c0b9-cc0e2fdac424"
      },
      "source": [
        "ls data/"
      ],
      "execution_count": 4,
      "outputs": [
        {
          "output_type": "stream",
          "text": [
            "201903-citibike-tripdata.csv.zip  MapPLUTO.shp\n",
            "201904-citibike-tripdata.csv.zip  MapPLUTO.shp.xml\n",
            "201905-citibike-tripdata.csv.zip  MapPLUTO.shx\n",
            "201906-citibike-tripdata.csv.zip  MNMapPLUTO.dbf\n",
            "202003-citibike-tripdata.csv.zip  MNMapPLUTO.prj\n",
            "202004-citibike-tripdata.csv.zip  MNMapPLUTO.sbn\n",
            "202005-citibike-tripdata.csv.zip  MNMapPLUTO.sbx\n",
            "202006-citibike-tripdata.csv.zip  MNMapPLUTO.shp\n",
            "arrest_data_daily_by_zip.csv      MNMapPLUTO.shp.xml\n",
            "\u001b[0m\u001b[01;34mcitibike\u001b[0m/                         MNMapPLUTO.shx\n",
            "citibikes_monthly.csv             PLUTODD20v5.pdf\n",
            "MapPLUTO.cpg                      PlutoReadme20v5.pdf\n",
            "MapPLUTO.dbf                      PPR_Properties.csv\n",
            "MapPLUTO.prj                      Varnamesnlabels_m2ihip_R.xlsx\n",
            "MapPLUTO.sbn                      Varnamesnlabels_m2ihip.xlsx\n",
            "MapPLUTO.sbx\n"
          ],
          "name": "stdout"
        }
      ]
    },
    {
      "cell_type": "code",
      "metadata": {
        "id": "gBazh8tNI-Vg",
        "colab_type": "code",
        "colab": {}
      },
      "source": [
        "df1 = pd.read_csv(\"data/PPR_Properties.csv\")"
      ],
      "execution_count": 6,
      "outputs": []
    },
    {
      "cell_type": "markdown",
      "metadata": {
        "id": "0By_jS0EJaVX",
        "colab_type": "text"
      },
      "source": [
        "Shape of the parks file"
      ]
    },
    {
      "cell_type": "code",
      "metadata": {
        "id": "-7ogFabuJwbW",
        "colab_type": "code",
        "colab": {
          "base_uri": "https://localhost:8080/",
          "height": 34
        },
        "outputId": "993281b1-d2fd-44bc-e88b-dc50d7d84f81"
      },
      "source": [
        "df1.shape"
      ],
      "execution_count": 20,
      "outputs": [
        {
          "output_type": "execute_result",
          "data": {
            "text/plain": [
              "(522, 25)"
            ]
          },
          "metadata": {
            "tags": []
          },
          "execution_count": 20
        }
      ]
    },
    {
      "cell_type": "markdown",
      "metadata": {
        "id": "o54oKm6vJkJu",
        "colab_type": "text"
      },
      "source": [
        "Column names in the dataframe"
      ]
    },
    {
      "cell_type": "code",
      "metadata": {
        "id": "nd1DCiHQJTqw",
        "colab_type": "code",
        "colab": {
          "base_uri": "https://localhost:8080/",
          "height": 136
        },
        "outputId": "9e34d5dc-563d-483f-8474-8f829dcde7a0"
      },
      "source": [
        "df1.columns"
      ],
      "execution_count": 19,
      "outputs": [
        {
          "output_type": "execute_result",
          "data": {
            "text/plain": [
              "Index(['OBJECTID', 'PUBLIC_NAME', 'PARENT_NAME', 'NESTED', 'OFFICIAL_NAME',\n",
              "       'LABEL', 'ALIAS', 'DPP_ASSET_ID', 'ADDRESS911', 'ZIPCODE',\n",
              "       'ADDRESS_BRT', 'ALIAS_ADDRESS', 'ACREAGE', 'PROPERTY_CLASSIFICATION',\n",
              "       'PPR_USE', 'PPR_DISTRICT', 'PPR_OPS_DISTRICT', 'COUNCIL_DISTRICT',\n",
              "       'POLICE_DISTRICT', 'CITY_SCALE_MAPS', 'LOCAL_SCALE_MAPS',\n",
              "       'PROGRAM_SITES', 'COMMENTS', 'Shape__Area', 'Shape__Length'],\n",
              "      dtype='object')"
            ]
          },
          "metadata": {
            "tags": []
          },
          "execution_count": 19
        }
      ]
    },
    {
      "cell_type": "markdown",
      "metadata": {
        "id": "gMKFhCIUJjhG",
        "colab_type": "text"
      },
      "source": [
        "Begining of the dataframe "
      ]
    },
    {
      "cell_type": "code",
      "metadata": {
        "id": "FIGyt_xKJG3g",
        "colab_type": "code",
        "colab": {
          "base_uri": "https://localhost:8080/",
          "height": 581
        },
        "outputId": "a6526e6b-8ee3-4cb1-d464-bb1101e61700"
      },
      "source": [
        "df1.head()"
      ],
      "execution_count": 7,
      "outputs": [
        {
          "output_type": "execute_result",
          "data": {
            "text/html": [
              "<div>\n",
              "<style scoped>\n",
              "    .dataframe tbody tr th:only-of-type {\n",
              "        vertical-align: middle;\n",
              "    }\n",
              "\n",
              "    .dataframe tbody tr th {\n",
              "        vertical-align: top;\n",
              "    }\n",
              "\n",
              "    .dataframe thead th {\n",
              "        text-align: right;\n",
              "    }\n",
              "</style>\n",
              "<table border=\"1\" class=\"dataframe\">\n",
              "  <thead>\n",
              "    <tr style=\"text-align: right;\">\n",
              "      <th></th>\n",
              "      <th>OBJECTID</th>\n",
              "      <th>PUBLIC_NAME</th>\n",
              "      <th>PARENT_NAME</th>\n",
              "      <th>NESTED</th>\n",
              "      <th>OFFICIAL_NAME</th>\n",
              "      <th>LABEL</th>\n",
              "      <th>ALIAS</th>\n",
              "      <th>DPP_ASSET_ID</th>\n",
              "      <th>ADDRESS911</th>\n",
              "      <th>ZIPCODE</th>\n",
              "      <th>ADDRESS_BRT</th>\n",
              "      <th>ALIAS_ADDRESS</th>\n",
              "      <th>ACREAGE</th>\n",
              "      <th>PROPERTY_CLASSIFICATION</th>\n",
              "      <th>PPR_USE</th>\n",
              "      <th>PPR_DISTRICT</th>\n",
              "      <th>PPR_OPS_DISTRICT</th>\n",
              "      <th>COUNCIL_DISTRICT</th>\n",
              "      <th>POLICE_DISTRICT</th>\n",
              "      <th>CITY_SCALE_MAPS</th>\n",
              "      <th>LOCAL_SCALE_MAPS</th>\n",
              "      <th>PROGRAM_SITES</th>\n",
              "      <th>COMMENTS</th>\n",
              "      <th>Shape__Area</th>\n",
              "      <th>Shape__Length</th>\n",
              "    </tr>\n",
              "  </thead>\n",
              "  <tbody>\n",
              "    <tr>\n",
              "      <th>0</th>\n",
              "      <td>1</td>\n",
              "      <td>William H (Billy) Markward Memorial Playground</td>\n",
              "      <td>Schuylkill River Park</td>\n",
              "      <td>Y</td>\n",
              "      <td>William H. (Billy) Markward Memorial Playground</td>\n",
              "      <td>Markward</td>\n",
              "      <td>NaN</td>\n",
              "      <td>1903</td>\n",
              "      <td>400 S TANEY ST</td>\n",
              "      <td>19146</td>\n",
              "      <td>400-16 S TANEY ST, 338-46 S 26TH ST, 300 S 26T...</td>\n",
              "      <td>400-16 S TANEY ST;Pine &amp; Taney;338-46 S 26TH S...</td>\n",
              "      <td>3.379158</td>\n",
              "      <td>NEIGHBORHOOD_PARK</td>\n",
              "      <td>RECREATION_SITE</td>\n",
              "      <td>7</td>\n",
              "      <td>5, 7</td>\n",
              "      <td>2</td>\n",
              "      <td>9</td>\n",
              "      <td>Y</td>\n",
              "      <td>Y</td>\n",
              "      <td>Y</td>\n",
              "      <td>NaN</td>\n",
              "      <td>23295.664062</td>\n",
              "      <td>892.868012</td>\n",
              "    </tr>\n",
              "    <tr>\n",
              "      <th>1</th>\n",
              "      <td>2</td>\n",
              "      <td>Schuylkill Banks</td>\n",
              "      <td>Schuylkill Banks</td>\n",
              "      <td>N</td>\n",
              "      <td>NaN</td>\n",
              "      <td>Schuylkill Banks</td>\n",
              "      <td>NaN</td>\n",
              "      <td>2794</td>\n",
              "      <td>400 S TANEY ST</td>\n",
              "      <td>19103</td>\n",
              "      <td>NaN</td>\n",
              "      <td>400-16 S TANEY ST</td>\n",
              "      <td>14.717314</td>\n",
              "      <td>NEIGHBORHOOD_PARK</td>\n",
              "      <td>GREENWAY_PARKWAY</td>\n",
              "      <td>7</td>\n",
              "      <td>5, 7</td>\n",
              "      <td>2, 5</td>\n",
              "      <td>9, 17</td>\n",
              "      <td>Y</td>\n",
              "      <td>Y</td>\n",
              "      <td>N</td>\n",
              "      <td>Bill 160113 (4/14/16) -South of South St Bridge</td>\n",
              "      <td>101477.179688</td>\n",
              "      <td>9300.670289</td>\n",
              "    </tr>\n",
              "    <tr>\n",
              "      <th>2</th>\n",
              "      <td>3</td>\n",
              "      <td>Schuylkill River Park</td>\n",
              "      <td>Schuylkill River Park</td>\n",
              "      <td>N</td>\n",
              "      <td>NaN</td>\n",
              "      <td>Schuylkill River Park</td>\n",
              "      <td>NaN</td>\n",
              "      <td>2992</td>\n",
              "      <td>400 S TANEY ST</td>\n",
              "      <td>19146</td>\n",
              "      <td>400-16 S TANEY ST, 338-46 S 26TH ST, 300 S 26T...</td>\n",
              "      <td>Pine &amp; Taney;400-16 S TANEY ST, 338-46 S 26TH ...</td>\n",
              "      <td>7.327000</td>\n",
              "      <td>NEIGHBORHOOD_PARK</td>\n",
              "      <td>RECREATION_SITE</td>\n",
              "      <td>7</td>\n",
              "      <td>5, 7</td>\n",
              "      <td>2</td>\n",
              "      <td>9</td>\n",
              "      <td>Y</td>\n",
              "      <td>Y</td>\n",
              "      <td>N</td>\n",
              "      <td>NaN</td>\n",
              "      <td>50512.582031</td>\n",
              "      <td>1259.304657</td>\n",
              "    </tr>\n",
              "    <tr>\n",
              "      <th>3</th>\n",
              "      <td>4</td>\n",
              "      <td>Frankford Boat Launch</td>\n",
              "      <td>Frankford Boat Launch</td>\n",
              "      <td>N</td>\n",
              "      <td>Frankford Boat Launch</td>\n",
              "      <td>Frankford Boat Launch</td>\n",
              "      <td>PA Fish &amp; Boat;Frankford Arsenal Boat Launch</td>\n",
              "      <td>3090</td>\n",
              "      <td>5625 TACONY ST</td>\n",
              "      <td>19137</td>\n",
              "      <td>5625 TACONY ST</td>\n",
              "      <td>5650 Tacony St</td>\n",
              "      <td>19.398075</td>\n",
              "      <td>NEIGHBORHOOD_PARK</td>\n",
              "      <td>BOATHOUSE_LAUNCH</td>\n",
              "      <td>2</td>\n",
              "      <td>2</td>\n",
              "      <td>6</td>\n",
              "      <td>15</td>\n",
              "      <td>Y</td>\n",
              "      <td>Y</td>\n",
              "      <td>N</td>\n",
              "      <td>NaN</td>\n",
              "      <td>133961.171875</td>\n",
              "      <td>1641.529044</td>\n",
              "    </tr>\n",
              "    <tr>\n",
              "      <th>4</th>\n",
              "      <td>5</td>\n",
              "      <td>Orthodox Street Park</td>\n",
              "      <td>Orthodox Street Park</td>\n",
              "      <td>N</td>\n",
              "      <td>NaN</td>\n",
              "      <td>Orthodox</td>\n",
              "      <td>Orthodox Street Parcel; Bridesburg Riverfront ...</td>\n",
              "      <td>3091</td>\n",
              "      <td>3101 ORTHODOX ST</td>\n",
              "      <td>19137</td>\n",
              "      <td>3101 ORTHODOX ST</td>\n",
              "      <td>NaN</td>\n",
              "      <td>16.229629</td>\n",
              "      <td>NEIGHBORHOOD_PARK</td>\n",
              "      <td>UNDEVELOPED</td>\n",
              "      <td>5</td>\n",
              "      <td>2</td>\n",
              "      <td>6</td>\n",
              "      <td>15</td>\n",
              "      <td>Y</td>\n",
              "      <td>Y</td>\n",
              "      <td>N</td>\n",
              "      <td>Officially acquired from PAID in 10/2019. Doc ...</td>\n",
              "      <td>112026.734375</td>\n",
              "      <td>1679.085206</td>\n",
              "    </tr>\n",
              "  </tbody>\n",
              "</table>\n",
              "</div>"
            ],
            "text/plain": [
              "   OBJECTID  ... Shape__Length\n",
              "0         1  ...    892.868012\n",
              "1         2  ...   9300.670289\n",
              "2         3  ...   1259.304657\n",
              "3         4  ...   1641.529044\n",
              "4         5  ...   1679.085206\n",
              "\n",
              "[5 rows x 25 columns]"
            ]
          },
          "metadata": {
            "tags": []
          },
          "execution_count": 7
        }
      ]
    },
    {
      "cell_type": "markdown",
      "metadata": {
        "id": "nfdLZkJ8JzeX",
        "colab_type": "text"
      },
      "source": [
        "End of the dataframe"
      ]
    },
    {
      "cell_type": "code",
      "metadata": {
        "id": "cpGG8cVXJ4NF",
        "colab_type": "code",
        "colab": {
          "base_uri": "https://localhost:8080/",
          "height": 462
        },
        "outputId": "620600f2-207b-434c-ab5a-72b31913560e"
      },
      "source": [
        "df1.tail()"
      ],
      "execution_count": 8,
      "outputs": [
        {
          "output_type": "execute_result",
          "data": {
            "text/html": [
              "<div>\n",
              "<style scoped>\n",
              "    .dataframe tbody tr th:only-of-type {\n",
              "        vertical-align: middle;\n",
              "    }\n",
              "\n",
              "    .dataframe tbody tr th {\n",
              "        vertical-align: top;\n",
              "    }\n",
              "\n",
              "    .dataframe thead th {\n",
              "        text-align: right;\n",
              "    }\n",
              "</style>\n",
              "<table border=\"1\" class=\"dataframe\">\n",
              "  <thead>\n",
              "    <tr style=\"text-align: right;\">\n",
              "      <th></th>\n",
              "      <th>OBJECTID</th>\n",
              "      <th>PUBLIC_NAME</th>\n",
              "      <th>PARENT_NAME</th>\n",
              "      <th>NESTED</th>\n",
              "      <th>OFFICIAL_NAME</th>\n",
              "      <th>LABEL</th>\n",
              "      <th>ALIAS</th>\n",
              "      <th>DPP_ASSET_ID</th>\n",
              "      <th>ADDRESS911</th>\n",
              "      <th>ZIPCODE</th>\n",
              "      <th>ADDRESS_BRT</th>\n",
              "      <th>ALIAS_ADDRESS</th>\n",
              "      <th>ACREAGE</th>\n",
              "      <th>PROPERTY_CLASSIFICATION</th>\n",
              "      <th>PPR_USE</th>\n",
              "      <th>PPR_DISTRICT</th>\n",
              "      <th>PPR_OPS_DISTRICT</th>\n",
              "      <th>COUNCIL_DISTRICT</th>\n",
              "      <th>POLICE_DISTRICT</th>\n",
              "      <th>CITY_SCALE_MAPS</th>\n",
              "      <th>LOCAL_SCALE_MAPS</th>\n",
              "      <th>PROGRAM_SITES</th>\n",
              "      <th>COMMENTS</th>\n",
              "      <th>Shape__Area</th>\n",
              "      <th>Shape__Length</th>\n",
              "    </tr>\n",
              "  </thead>\n",
              "  <tbody>\n",
              "    <tr>\n",
              "      <th>517</th>\n",
              "      <td>518</td>\n",
              "      <td>Sedgely and Fletcher Warehouse</td>\n",
              "      <td>Sedgely and Fletcher Warehouse</td>\n",
              "      <td>N</td>\n",
              "      <td>NaN</td>\n",
              "      <td>Sedgely Warehouse</td>\n",
              "      <td>Sedgley Storeroom;Maintenance Warehouse</td>\n",
              "      <td>99999</td>\n",
              "      <td>2528 W SEDGLEY AVE</td>\n",
              "      <td>19132</td>\n",
              "      <td>2528-34 W SEDGLEY AVE</td>\n",
              "      <td>W Sedgley Ave &amp; N 26th St;2528-34 W SEDGLEY AVE</td>\n",
              "      <td>0.773902</td>\n",
              "      <td>NEIGHBORHOOD_PARK</td>\n",
              "      <td>OPERATIONS</td>\n",
              "      <td>6</td>\n",
              "      <td>6</td>\n",
              "      <td>5</td>\n",
              "      <td>22</td>\n",
              "      <td>N</td>\n",
              "      <td>Y</td>\n",
              "      <td>N</td>\n",
              "      <td>School District leases to PPR.</td>\n",
              "      <td>5341.640625</td>\n",
              "      <td>356.178092</td>\n",
              "    </tr>\n",
              "    <tr>\n",
              "      <th>518</th>\n",
              "      <td>519</td>\n",
              "      <td>Fox Chase - Lorimer Trail Greenway (Rhawn)</td>\n",
              "      <td>Fox Chase - Lorimer Trail Greenway (Rhawn)</td>\n",
              "      <td>N</td>\n",
              "      <td>NaN</td>\n",
              "      <td>Fox Chase - Lorimer Greenway</td>\n",
              "      <td>NaN</td>\n",
              "      <td>99999</td>\n",
              "      <td>439 RHAWN ST</td>\n",
              "      <td>19111</td>\n",
              "      <td>NaN</td>\n",
              "      <td>Rhawn St and Elberon Ave;8217 BURHOLME AVE</td>\n",
              "      <td>3.589356</td>\n",
              "      <td>NEIGHBORHOOD_PARK</td>\n",
              "      <td>UNDEVELOPED</td>\n",
              "      <td>1</td>\n",
              "      <td>1</td>\n",
              "      <td>10</td>\n",
              "      <td>7</td>\n",
              "      <td>Y</td>\n",
              "      <td>Y</td>\n",
              "      <td>N</td>\n",
              "      <td>No Public Access. Undeveloped Land awaiting Fo...</td>\n",
              "      <td>24840.667969</td>\n",
              "      <td>2152.448099</td>\n",
              "    </tr>\n",
              "    <tr>\n",
              "      <th>519</th>\n",
              "      <td>520</td>\n",
              "      <td>Bartrams Mile Trail Greenway</td>\n",
              "      <td>Bartrams Mile Trail Greenway</td>\n",
              "      <td>N</td>\n",
              "      <td>NaN</td>\n",
              "      <td>Bartrams Trail Greenway</td>\n",
              "      <td>Bartram's Mile; Bartrams South</td>\n",
              "      <td>0</td>\n",
              "      <td>NaN</td>\n",
              "      <td>19143</td>\n",
              "      <td>NaN</td>\n",
              "      <td>NaN</td>\n",
              "      <td>9.217030</td>\n",
              "      <td>NEIGHBORHOOD_PARK</td>\n",
              "      <td>GREENWAY_PARKWAY</td>\n",
              "      <td>9</td>\n",
              "      <td>8</td>\n",
              "      <td>3</td>\n",
              "      <td>12,18</td>\n",
              "      <td>Y</td>\n",
              "      <td>N</td>\n",
              "      <td>N</td>\n",
              "      <td>In Development</td>\n",
              "      <td>63509.933594</td>\n",
              "      <td>2635.375719</td>\n",
              "    </tr>\n",
              "    <tr>\n",
              "      <th>520</th>\n",
              "      <td>521</td>\n",
              "      <td>Loretto and Gilham Triangle</td>\n",
              "      <td>Loretto and Gilham Triangle</td>\n",
              "      <td>N</td>\n",
              "      <td>NaN</td>\n",
              "      <td>Loretto and Gilham</td>\n",
              "      <td>Cranford Ave andd Magee Ave Traffic Island; No...</td>\n",
              "      <td>245</td>\n",
              "      <td>1385 GILHAM ST</td>\n",
              "      <td>19111</td>\n",
              "      <td>Registry - 144N070092</td>\n",
              "      <td>6540 LORETTO AVE</td>\n",
              "      <td>0.161596</td>\n",
              "      <td>POCKET_PARK</td>\n",
              "      <td>BREEZEWAY_ISLAND</td>\n",
              "      <td>1</td>\n",
              "      <td>2</td>\n",
              "      <td>9</td>\n",
              "      <td>2</td>\n",
              "      <td>Y</td>\n",
              "      <td>Y</td>\n",
              "      <td>N</td>\n",
              "      <td>NaN</td>\n",
              "      <td>1116.867188</td>\n",
              "      <td>144.694698</td>\n",
              "    </tr>\n",
              "    <tr>\n",
              "      <th>521</th>\n",
              "      <td>522</td>\n",
              "      <td>Rail Park</td>\n",
              "      <td>Rail Park</td>\n",
              "      <td>N</td>\n",
              "      <td>The Rail Park</td>\n",
              "      <td>Rail Park</td>\n",
              "      <td>NaN</td>\n",
              "      <td>99999</td>\n",
              "      <td>1250 NOBLE ST</td>\n",
              "      <td>19123</td>\n",
              "      <td>NaN</td>\n",
              "      <td>1136 CALLOWHILL ST</td>\n",
              "      <td>0.872112</td>\n",
              "      <td>NEIGHBORHOOD_PARK</td>\n",
              "      <td>GREENWAY_PARKWAY</td>\n",
              "      <td>10</td>\n",
              "      <td>5</td>\n",
              "      <td>1</td>\n",
              "      <td>6</td>\n",
              "      <td>Y</td>\n",
              "      <td>Y</td>\n",
              "      <td>N</td>\n",
              "      <td>Elevated former railway.</td>\n",
              "      <td>6009.941406</td>\n",
              "      <td>825.079151</td>\n",
              "    </tr>\n",
              "  </tbody>\n",
              "</table>\n",
              "</div>"
            ],
            "text/plain": [
              "     OBJECTID  ... Shape__Length\n",
              "517       518  ...    356.178092\n",
              "518       519  ...   2152.448099\n",
              "519       520  ...   2635.375719\n",
              "520       521  ...    144.694698\n",
              "521       522  ...    825.079151\n",
              "\n",
              "[5 rows x 25 columns]"
            ]
          },
          "metadata": {
            "tags": []
          },
          "execution_count": 8
        }
      ]
    },
    {
      "cell_type": "markdown",
      "metadata": {
        "id": "Ppee5naUKFVF",
        "colab_type": "text"
      },
      "source": [
        "Measuring the central tendency of the Philly park sizes"
      ]
    },
    {
      "cell_type": "code",
      "metadata": {
        "id": "6ubh2ZSmM8DD",
        "colab_type": "code",
        "colab": {}
      },
      "source": [
        "import numpy as np\n",
        "import pandas as pd\n",
        "import matplotlib.pyplot as plt"
      ],
      "execution_count": 50,
      "outputs": []
    },
    {
      "cell_type": "code",
      "metadata": {
        "id": "92N-flimNNcy",
        "colab_type": "code",
        "colab": {}
      },
      "source": [
        "meanps = np.mean(df1.ACREAGE)"
      ],
      "execution_count": 44,
      "outputs": []
    },
    {
      "cell_type": "code",
      "metadata": {
        "id": "ayZTc6A8Kuod",
        "colab_type": "code",
        "colab": {
          "base_uri": "https://localhost:8080/",
          "height": 34
        },
        "outputId": "dbfb4871-3cfb-449b-88b4-814f745616b0"
      },
      "source": [
        "meanps"
      ],
      "execution_count": 45,
      "outputs": [
        {
          "output_type": "execute_result",
          "data": {
            "text/plain": [
              "23.238296223045964"
            ]
          },
          "metadata": {
            "tags": []
          },
          "execution_count": 45
        }
      ]
    },
    {
      "cell_type": "code",
      "metadata": {
        "id": "UFrxw89MK0bP",
        "colab_type": "code",
        "colab": {}
      },
      "source": [
        "medianps = np.median(df1.ACREAGE)"
      ],
      "execution_count": 46,
      "outputs": []
    },
    {
      "cell_type": "code",
      "metadata": {
        "id": "gu-axCNFLEfd",
        "colab_type": "code",
        "colab": {
          "base_uri": "https://localhost:8080/",
          "height": 34
        },
        "outputId": "13c459fd-168d-42d7-a083-944249d2fb2f"
      },
      "source": [
        "medianps"
      ],
      "execution_count": 47,
      "outputs": [
        {
          "output_type": "execute_result",
          "data": {
            "text/plain": [
              "3.59385373"
            ]
          },
          "metadata": {
            "tags": []
          },
          "execution_count": 47
        }
      ]
    },
    {
      "cell_type": "markdown",
      "metadata": {
        "id": "8qdbecYcOJ3C",
        "colab_type": "text"
      },
      "source": [
        "No, the mean and median of the Philly park sizes are not the same. Since the mean is higher than median, we can say that the data is positively skewed. "
      ]
    },
    {
      "cell_type": "markdown",
      "metadata": {
        "id": "_AxcM4QPKz3S",
        "colab_type": "text"
      },
      "source": [
        "Histogram of the park size"
      ]
    },
    {
      "cell_type": "markdown",
      "metadata": {
        "id": "5GrMy6UQPQMg",
        "colab_type": "text"
      },
      "source": [
        ""
      ]
    },
    {
      "cell_type": "code",
      "metadata": {
        "id": "SUpmTsxaLSgO",
        "colab_type": "code",
        "colab": {
          "base_uri": "https://localhost:8080/",
          "height": 279
        },
        "outputId": "b46e644f-46bb-4000-add7-194bc2d6f9a9"
      },
      "source": [
        "ax = df1.ACREAGE.hist(bins=20,  )\n",
        "ax.plot(meanps, label='mean')\n",
        "ax.plot(medianps, label='median')\n",
        "ax.set_xlabel('Philly Park Sizes')\n",
        "ax.legend(loc='upper right');\n"
      ],
      "execution_count": 63,
      "outputs": [
        {
          "output_type": "display_data",
          "data": {
            "image/png": "[encoded data removed]",
            "text/plain": [
              "<Figure size 432x288 with 1 Axes>"
            ]
          },
          "metadata": {
            "tags": [],
            "needs_background": "light"
          }
        }
      ]
    },
    {
      "cell_type": "markdown",
      "metadata": {
        "id": "5IewqgQ9L5BJ",
        "colab_type": "text"
      },
      "source": [
        "Standard Deviation of the park sizes"
      ]
    },
    {
      "cell_type": "code",
      "metadata": {
        "id": "pIoHH4AML5PF",
        "colab_type": "code",
        "colab": {}
      },
      "source": [
        "stdps = np.std(df1.ACREAGE)"
      ],
      "execution_count": 53,
      "outputs": []
    },
    {
      "cell_type": "code",
      "metadata": {
        "id": "ZCOQ1IunPWKP",
        "colab_type": "code",
        "colab": {
          "base_uri": "https://localhost:8080/",
          "height": 34
        },
        "outputId": "2ef345fd-a020-4ae1-8d94-fa54f637c686"
      },
      "source": [
        "stdps"
      ],
      "execution_count": 54,
      "outputs": [
        {
          "output_type": "execute_result",
          "data": {
            "text/plain": [
              "131.75680634400803"
            ]
          },
          "metadata": {
            "tags": []
          },
          "execution_count": 54
        }
      ]
    },
    {
      "cell_type": "markdown",
      "metadata": {
        "id": "dNPuCxafSIcr",
        "colab_type": "text"
      },
      "source": [
        "The standard deviation of the park size is 131.75 Acres\n"
      ]
    },
    {
      "cell_type": "code",
      "metadata": {
        "id": "x3lfCaUCVH58",
        "colab_type": "code",
        "colab": {}
      },
      "source": [
        "#subsetting the data to parks with area less than 10 acres\n",
        "parksub = df1[df1.ACREAGE<=10]"
      ],
      "execution_count": 91,
      "outputs": []
    },
    {
      "cell_type": "code",
      "metadata": {
        "id": "E8IvgKjOWmCf",
        "colab_type": "code",
        "colab": {
          "base_uri": "https://localhost:8080/",
          "height": 479
        },
        "outputId": "0f3149ac-31a1-4b3a-aeb0-e4a7046afe85"
      },
      "source": [
        "parksub.head()"
      ],
      "execution_count": 93,
      "outputs": [
        {
          "output_type": "execute_result",
          "data": {
            "text/html": [
              "<div>\n",
              "<style scoped>\n",
              "    .dataframe tbody tr th:only-of-type {\n",
              "        vertical-align: middle;\n",
              "    }\n",
              "\n",
              "    .dataframe tbody tr th {\n",
              "        vertical-align: top;\n",
              "    }\n",
              "\n",
              "    .dataframe thead th {\n",
              "        text-align: right;\n",
              "    }\n",
              "</style>\n",
              "<table border=\"1\" class=\"dataframe\">\n",
              "  <thead>\n",
              "    <tr style=\"text-align: right;\">\n",
              "      <th></th>\n",
              "      <th>OBJECTID</th>\n",
              "      <th>PUBLIC_NAME</th>\n",
              "      <th>PARENT_NAME</th>\n",
              "      <th>NESTED</th>\n",
              "      <th>OFFICIAL_NAME</th>\n",
              "      <th>LABEL</th>\n",
              "      <th>ALIAS</th>\n",
              "      <th>DPP_ASSET_ID</th>\n",
              "      <th>ADDRESS911</th>\n",
              "      <th>ZIPCODE</th>\n",
              "      <th>ADDRESS_BRT</th>\n",
              "      <th>ALIAS_ADDRESS</th>\n",
              "      <th>ACREAGE</th>\n",
              "      <th>PROPERTY_CLASSIFICATION</th>\n",
              "      <th>PPR_USE</th>\n",
              "      <th>PPR_DISTRICT</th>\n",
              "      <th>PPR_OPS_DISTRICT</th>\n",
              "      <th>COUNCIL_DISTRICT</th>\n",
              "      <th>POLICE_DISTRICT</th>\n",
              "      <th>CITY_SCALE_MAPS</th>\n",
              "      <th>LOCAL_SCALE_MAPS</th>\n",
              "      <th>PROGRAM_SITES</th>\n",
              "      <th>COMMENTS</th>\n",
              "      <th>Shape__Area</th>\n",
              "      <th>Shape__Length</th>\n",
              "    </tr>\n",
              "  </thead>\n",
              "  <tbody>\n",
              "    <tr>\n",
              "      <th>0</th>\n",
              "      <td>1</td>\n",
              "      <td>William H (Billy) Markward Memorial Playground</td>\n",
              "      <td>Schuylkill River Park</td>\n",
              "      <td>Y</td>\n",
              "      <td>William H. (Billy) Markward Memorial Playground</td>\n",
              "      <td>Markward</td>\n",
              "      <td>NaN</td>\n",
              "      <td>1903</td>\n",
              "      <td>400 S TANEY ST</td>\n",
              "      <td>19146</td>\n",
              "      <td>400-16 S TANEY ST, 338-46 S 26TH ST, 300 S 26T...</td>\n",
              "      <td>400-16 S TANEY ST;Pine &amp; Taney;338-46 S 26TH S...</td>\n",
              "      <td>3.379158</td>\n",
              "      <td>NEIGHBORHOOD_PARK</td>\n",
              "      <td>RECREATION_SITE</td>\n",
              "      <td>7</td>\n",
              "      <td>5, 7</td>\n",
              "      <td>2</td>\n",
              "      <td>9</td>\n",
              "      <td>Y</td>\n",
              "      <td>Y</td>\n",
              "      <td>Y</td>\n",
              "      <td>NaN</td>\n",
              "      <td>23295.664062</td>\n",
              "      <td>892.868012</td>\n",
              "    </tr>\n",
              "    <tr>\n",
              "      <th>2</th>\n",
              "      <td>3</td>\n",
              "      <td>Schuylkill River Park</td>\n",
              "      <td>Schuylkill River Park</td>\n",
              "      <td>N</td>\n",
              "      <td>NaN</td>\n",
              "      <td>Schuylkill River Park</td>\n",
              "      <td>NaN</td>\n",
              "      <td>2992</td>\n",
              "      <td>400 S TANEY ST</td>\n",
              "      <td>19146</td>\n",
              "      <td>400-16 S TANEY ST, 338-46 S 26TH ST, 300 S 26T...</td>\n",
              "      <td>Pine &amp; Taney;400-16 S TANEY ST, 338-46 S 26TH ...</td>\n",
              "      <td>7.327000</td>\n",
              "      <td>NEIGHBORHOOD_PARK</td>\n",
              "      <td>RECREATION_SITE</td>\n",
              "      <td>7</td>\n",
              "      <td>5, 7</td>\n",
              "      <td>2</td>\n",
              "      <td>9</td>\n",
              "      <td>Y</td>\n",
              "      <td>Y</td>\n",
              "      <td>N</td>\n",
              "      <td>NaN</td>\n",
              "      <td>50512.582031</td>\n",
              "      <td>1259.304657</td>\n",
              "    </tr>\n",
              "    <tr>\n",
              "      <th>15</th>\n",
              "      <td>16</td>\n",
              "      <td>Whitby Avenue Playground</td>\n",
              "      <td>Cobbs Creek Park</td>\n",
              "      <td>Y</td>\n",
              "      <td>NaN</td>\n",
              "      <td>Whitby</td>\n",
              "      <td></td>\n",
              "      <td>1372</td>\n",
              "      <td>1300 COBBS CREEK PKY</td>\n",
              "      <td>19143</td>\n",
              "      <td>NaN</td>\n",
              "      <td>NaN</td>\n",
              "      <td>5.167033</td>\n",
              "      <td>NEIGHBORHOOD_PARK</td>\n",
              "      <td>MISC_PARK</td>\n",
              "      <td>8</td>\n",
              "      <td>8</td>\n",
              "      <td>3</td>\n",
              "      <td>12</td>\n",
              "      <td>Y</td>\n",
              "      <td>Y</td>\n",
              "      <td>N</td>\n",
              "      <td>NaN</td>\n",
              "      <td>35613.878906</td>\n",
              "      <td>906.065942</td>\n",
              "    </tr>\n",
              "    <tr>\n",
              "      <th>16</th>\n",
              "      <td>17</td>\n",
              "      <td>Holme Avenue Field</td>\n",
              "      <td>Pennypack Park</td>\n",
              "      <td>Y</td>\n",
              "      <td>NaN</td>\n",
              "      <td>NaN</td>\n",
              "      <td></td>\n",
              "      <td>3088</td>\n",
              "      <td>2761 HOLME AVE</td>\n",
              "      <td>19152</td>\n",
              "      <td>NaN</td>\n",
              "      <td>NaN</td>\n",
              "      <td>1.158622</td>\n",
              "      <td>NEIGHBORHOOD_PARK</td>\n",
              "      <td>ATHLETIC_OTHER</td>\n",
              "      <td>1</td>\n",
              "      <td>1</td>\n",
              "      <td>6</td>\n",
              "      <td>8</td>\n",
              "      <td>N</td>\n",
              "      <td>N</td>\n",
              "      <td>N</td>\n",
              "      <td>NaN</td>\n",
              "      <td>8013.515625</td>\n",
              "      <td>453.300062</td>\n",
              "    </tr>\n",
              "    <tr>\n",
              "      <th>17</th>\n",
              "      <td>18</td>\n",
              "      <td>29th and Passyunk Park</td>\n",
              "      <td>29th and Passyunk Park</td>\n",
              "      <td>N</td>\n",
              "      <td>NaN</td>\n",
              "      <td>29th and Passyunk</td>\n",
              "      <td></td>\n",
              "      <td>432</td>\n",
              "      <td>2827 W PASSYUNK AVE</td>\n",
              "      <td>19145</td>\n",
              "      <td>2827 W PASSYUNK AVE</td>\n",
              "      <td>Newkirk &amp; Passyunk</td>\n",
              "      <td>0.556027</td>\n",
              "      <td>NEIGHBORHOOD_PARK</td>\n",
              "      <td>MISC_PARK</td>\n",
              "      <td>9</td>\n",
              "      <td>7</td>\n",
              "      <td>2</td>\n",
              "      <td>1</td>\n",
              "      <td>Y</td>\n",
              "      <td>Y</td>\n",
              "      <td>N</td>\n",
              "      <td>Owned by PennDOT</td>\n",
              "      <td>3830.242188</td>\n",
              "      <td>247.032048</td>\n",
              "    </tr>\n",
              "  </tbody>\n",
              "</table>\n",
              "</div>"
            ],
            "text/plain": [
              "    OBJECTID  ... Shape__Length\n",
              "0          1  ...    892.868012\n",
              "2          3  ...   1259.304657\n",
              "15        16  ...    906.065942\n",
              "16        17  ...    453.300062\n",
              "17        18  ...    247.032048\n",
              "\n",
              "[5 rows x 25 columns]"
            ]
          },
          "metadata": {
            "tags": []
          },
          "execution_count": 93
        }
      ]
    },
    {
      "cell_type": "code",
      "metadata": {
        "id": "E5VxEv4GXGzo",
        "colab_type": "code",
        "colab": {}
      },
      "source": [
        "meanparksub=np.mean(parksub.ACREAGE)"
      ],
      "execution_count": 95,
      "outputs": []
    },
    {
      "cell_type": "code",
      "metadata": {
        "id": "8NkVP1KGXR13",
        "colab_type": "code",
        "colab": {
          "base_uri": "https://localhost:8080/",
          "height": 34
        },
        "outputId": "456937eb-bf05-4c04-cf8e-e3fe47cd337f"
      },
      "source": [
        "meanparksub"
      ],
      "execution_count": 96,
      "outputs": [
        {
          "output_type": "execute_result",
          "data": {
            "text/plain": [
              "2.9079506748410746"
            ]
          },
          "metadata": {
            "tags": []
          },
          "execution_count": 96
        }
      ]
    },
    {
      "cell_type": "code",
      "metadata": {
        "id": "AxtuXMWwXU-v",
        "colab_type": "code",
        "colab": {
          "base_uri": "https://localhost:8080/",
          "height": 34
        },
        "outputId": "b8e7080f-f5c0-45ae-e84e-16e8e18b40c2"
      },
      "source": [
        "medianparksub=np.median(parksub.ACREAGE)\n",
        "medianparksub"
      ],
      "execution_count": 98,
      "outputs": [
        {
          "output_type": "execute_result",
          "data": {
            "text/plain": [
              "2.05984969"
            ]
          },
          "metadata": {
            "tags": []
          },
          "execution_count": 98
        }
      ]
    },
    {
      "cell_type": "code",
      "metadata": {
        "id": "5lSge_-TXhR_",
        "colab_type": "code",
        "colab": {
          "base_uri": "https://localhost:8080/",
          "height": 279
        },
        "outputId": "e1d26d0f-72ee-4693-cca5-ee58a0ec3f2a"
      },
      "source": [
        "ax = parksub.ACREAGE.hist(bins=20,  )\n",
        "ax.plot(meanparksub, label='mean')\n",
        "ax.plot(medianparksub, label='median')\n",
        "ax.set_xlabel('Philly Park Sizes less than 10 acres')\n",
        "ax.legend(loc='upper right');"
      ],
      "execution_count": 101,
      "outputs": [
        {
          "output_type": "display_data",
          "data": {
            "image/png": "[encoded data removed]",
            "text/plain": [
              "<Figure size 432x288 with 1 Axes>"
            ]
          },
          "metadata": {
            "tags": [],
            "needs_background": "light"
          }
        }
      ]
    }
  ]
}